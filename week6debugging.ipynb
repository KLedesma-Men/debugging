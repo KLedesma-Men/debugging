{
 "cells": [
  {
   "cell_type": "code",
   "execution_count": 110,
   "id": "27e1ba6f-9016-407d-b19f-e2abeb2ab679",
   "metadata": {},
   "outputs": [
    {
     "name": "stdout",
     "output_type": "stream",
     "text": [
      "There is an error in the loop: arg1[{arg1_index}] is {arg1[arg1_index]}\n",
      "Incorrect arg_2_sum for arg1[{arg1_index}] = {arg_2_sum}. Expected: {arg1[arg1_index] + sum(arg2)}\n",
      "There is an error in the loop: arg1[{arg1_index}] is {arg1[arg1_index]}\n",
      "Incorrect arg_2_sum for arg1[{arg1_index}] = {arg_2_sum}. Expected: {arg1[arg1_index] + sum(arg2)}\n",
      "There is an error in the loop: arg1[{arg1_index}] is {arg1[arg1_index]}\n",
      "Incorrect arg_2_sum for arg1[{arg1_index}] = {arg_2_sum}. Expected: {arg1[arg1_index] + sum(arg2)}\n",
      "After the loop, arg1[{arg1_index}} is wrongly set to {arg1[arg1_index]}\n",
      "There is an error in the loop: arg1[{arg1_index}] is {arg1[arg1_index]}\n",
      "Incorrect arg_2_sum for arg1[{arg1_index}] = {arg_2_sum}. Expected: {arg1[arg1_index] + sum(arg2)}\n",
      "There is an error in the loop: arg1[{arg1_index}] is {arg1[arg1_index]}\n",
      "Incorrect arg_2_sum for arg1[{arg1_index}] = {arg_2_sum}. Expected: {arg1[arg1_index] + sum(arg2)}\n",
      "There is an error in the loop: arg1[{arg1_index}] is {arg1[arg1_index]}\n",
      "Incorrect arg_2_sum for arg1[{arg1_index}] = {arg_2_sum}. Expected: {arg1[arg1_index] + sum(arg2)}\n",
      "After the loop, arg1[{arg1_index}} is wrongly set to {arg1[arg1_index]}\n",
      "There is an error in the loop: arg1[{arg1_index}] is {arg1[arg1_index]}\n",
      "Incorrect arg_2_sum for arg1[{arg1_index}] = {arg_2_sum}. Expected: {arg1[arg1_index] + sum(arg2)}\n",
      "There is an error in the loop: arg1[{arg1_index}] is {arg1[arg1_index]}\n",
      "Incorrect arg_2_sum for arg1[{arg1_index}] = {arg_2_sum}. Expected: {arg1[arg1_index] + sum(arg2)}\n",
      "There is an error in the loop: arg1[{arg1_index}] is {arg1[arg1_index]}\n",
      "Incorrect arg_2_sum for arg1[{arg1_index}] = {arg_2_sum}. Expected: {arg1[arg1_index] + sum(arg2)}\n",
      "After the loop, arg1[{arg1_index}} is wrongly set to {arg1[arg1_index]}\n",
      "The incorrect result is: {arg1}\n",
      "Correct: arg1[{arg1_index}] is now {arg1[arg1_index]}\n",
      "Correct: arg1[{arg1_index}] is now {arg1[arg1_index]}\n",
      "Correct: arg1[{arg1_index}] is now {arg1[arg1_index]}\n",
      "The correct result is: {arg1}\n",
      "correct_add_function(arg1, arg2)\n"
     ]
    }
   ],
   "source": [
    "#1a debugging \n",
    "def wrong_add_function(arg1,arg2):\n",
    "   '''\n",
    "   The function takes in two lists of integers, then it adds\n",
    "   all of arg2 to each item of arg1.\n",
    "   \n",
    "   Example:\n",
    "      > wrong_add_function([1,2,3],[1,1,1])\n",
    "      > [6,9,12]\n",
    "\n",
    "   whereas the expected correct answer is, [2,3,4]\n",
    "\n",
    "   Parameters\n",
    "   ----------\n",
    "   arg1 : list\n",
    "      list of integers.\n",
    "   arg2 : list\n",
    "      list of integers.\n",
    "\n",
    "   Returns\n",
    "   -------\n",
    "   arg1 : list\n",
    "      Elements of arg1, with each element having had the contents of \n",
    "      arg2 added to it.\n",
    "\n",
    "   '''\n",
    "   arg1_index = 0\n",
    "   while arg1_index < len(arg1):\n",
    "      arg_2_sum = 0\n",
    "      for arg2_elements in arg2:\n",
    "          #mistake is where?\n",
    "          print(\"There is an error in the loop: arg1[{arg1_index}] is {arg1[arg1_index]}\")\n",
    "          #there is a mistake in the sum\n",
    "          arg_2_sum = sum([arg1[arg1_index]+i for i in arg2])\n",
    "          print(\"Incorrect arg_2_sum for arg1[{arg1_index}] = {arg_2_sum}. Expected: {arg1[arg1_index] + sum(arg2)}\")\n",
    "      arg1[arg1_index] = arg_2_sum  #This line is incorrect too\n",
    "      print(\"After the loop, arg1[{arg1_index}} is wrongly set to {arg1[arg1_index]}\")\n",
    "      arg1_index += 1\n",
    "    \n",
    "   print(\"The incorrect result is: {arg1}\")\n",
    "   return arg1\n",
    "\n",
    "arg1 = [1,2,3]\n",
    "arg2 = [1,1,1]\n",
    "\n",
    "wrong_add_function(arg1, arg2)\n",
    "\n",
    "#1b. correcting the mistakes\n",
    "def correct_add_function(arg1,arg2):\n",
    "    arg1_index=0\n",
    "    while arg1_index < len(arg1):\n",
    "        arg_2_sum = sum(arg2) #the correct sum\n",
    "        for arg2_elements in arg2:\n",
    "            arg1[arg1_index] += arg_2_sum \n",
    "      \n",
    "        print(\"Correct: arg1[{arg1_index}] is now {arg1[arg1_index]}\")#correct value for the element\n",
    "        \n",
    "        arg1_index+=1\n",
    "    \n",
    "    print(\"The correct result is: {arg1}\")\n",
    "    return arg1\n",
    "\n",
    "arg1 = [1,2,3]\n",
    "arg2 = [1,1,1]\n",
    "\n",
    "correct_add_function(arg1, arg2)\n",
    "print(\"correct_add_function(arg1, arg2)\")"
   ]
  },
  {
   "cell_type": "code",
   "execution_count": 157,
   "id": "f91b9f5f-7b4f-4aa9-b8f7-71f942150ded",
   "metadata": {},
   "outputs": [
    {
     "name": "stdout",
     "output_type": "stream",
     "text": [
      "Adding 1 to 14\n",
      "Adding 1 to 15\n",
      "Adding 1 to 16\n"
     ]
    },
    {
     "ename": "SyntaxError",
     "evalue": "'return' outside function (2031070964.py, line 9)",
     "output_type": "error",
     "traceback": [
      "\u001b[0;36m  Cell \u001b[0;32mIn[157], line 9\u001b[0;36m\u001b[0m\n\u001b[0;31m    return arg1\u001b[0m\n\u001b[0m    ^\u001b[0m\n\u001b[0;31mSyntaxError\u001b[0m\u001b[0;31m:\u001b[0m 'return' outside function\n"
     ]
    }
   ],
   "source": [
    "#2a numeric section\n",
    "if sum([type(i) == int for i in arg1]) == len(arg1) and \\\n",
    "      sum([type(i) == int for i in arg2])==len(arg2):\n",
    "         arg1_index = 0\n",
    "         while arg1_index < len(arg1):\n",
    "             print(f\"Adding {arg2[arg1_index]} to {arg1[arg1_index]}\")\n",
    "             arg1[arg1_index] = arg1[arg1_index] + arg2[arg1_index]\n",
    "             arg1_index += 1\n",
    "return arg1\n",
    "            \n",
    "     "
   ]
  },
  {
   "cell_type": "code",
   "execution_count": 167,
   "id": "ee459605-f80f-465f-bde6-0e5186baa5a3",
   "metadata": {},
   "outputs": [
    {
     "name": "stdout",
     "output_type": "stream",
     "text": [
      "There is an error in the loop: arg1[{arg1_index}] is {arg1[arg1_index]}\n"
     ]
    },
    {
     "ename": "NameError",
     "evalue": "name 'error' is not defined",
     "output_type": "error",
     "traceback": [
      "\u001b[0;31m---------------------------------------------------------------------------\u001b[0m",
      "\u001b[0;31mTypeError\u001b[0m                                 Traceback (most recent call last)",
      "Cell \u001b[0;32mIn[167], line 5\u001b[0m, in \u001b[0;36mexception_add_function\u001b[0;34m(arg1, arg2)\u001b[0m\n\u001b[1;32m      4\u001b[0m \u001b[38;5;28;01mtry\u001b[39;00m: \n\u001b[0;32m----> 5\u001b[0m     \u001b[38;5;28;01mreturn\u001b[39;00m \u001b[43mwrong_add_function\u001b[49m\u001b[43m(\u001b[49m\u001b[43marg1\u001b[49m\u001b[43m,\u001b[49m\u001b[43m \u001b[49m\u001b[43marg2\u001b[49m\u001b[43m)\u001b[49m\n\u001b[1;32m      7\u001b[0m \u001b[38;5;28;01mexcept\u001b[39;00m error \u001b[38;5;28;01mas\u001b[39;00m e:\n",
      "Cell \u001b[0;32mIn[110], line 34\u001b[0m, in \u001b[0;36mwrong_add_function\u001b[0;34m(arg1, arg2)\u001b[0m\n\u001b[1;32m     33\u001b[0m \u001b[38;5;66;03m#there is a mistake in the sum\u001b[39;00m\n\u001b[0;32m---> 34\u001b[0m arg_2_sum \u001b[38;5;241m=\u001b[39m \u001b[38;5;28msum\u001b[39m([\u001b[43marg1\u001b[49m\u001b[43m[\u001b[49m\u001b[43marg1_index\u001b[49m\u001b[43m]\u001b[49m\u001b[38;5;241;43m+\u001b[39;49m\u001b[43mi\u001b[49m \u001b[38;5;28;01mfor\u001b[39;00m i \u001b[38;5;129;01min\u001b[39;00m arg2])\n\u001b[1;32m     35\u001b[0m \u001b[38;5;28mprint\u001b[39m(\u001b[38;5;124m\"\u001b[39m\u001b[38;5;124mIncorrect arg_2_sum for arg1[\u001b[39m\u001b[38;5;132;01m{arg1_index}\u001b[39;00m\u001b[38;5;124m] = \u001b[39m\u001b[38;5;132;01m{arg_2_sum}\u001b[39;00m\u001b[38;5;124m. Expected: \u001b[39m\u001b[38;5;124m{\u001b[39m\u001b[38;5;124marg1[arg1_index] + sum(arg2)}\u001b[39m\u001b[38;5;124m\"\u001b[39m)\n",
      "\u001b[0;31mTypeError\u001b[0m: can only concatenate str (not \"int\") to str",
      "\nDuring handling of the above exception, another exception occurred:\n",
      "\u001b[0;31mNameError\u001b[0m                                 Traceback (most recent call last)",
      "Cell \u001b[0;32mIn[167], line 17\u001b[0m\n\u001b[1;32m     15\u001b[0m arg_str_1 \u001b[38;5;241m=\u001b[39m [\u001b[38;5;124m'\u001b[39m\u001b[38;5;124m1\u001b[39m\u001b[38;5;124m'\u001b[39m, \u001b[38;5;124m'\u001b[39m\u001b[38;5;124m2\u001b[39m\u001b[38;5;124m'\u001b[39m, \u001b[38;5;124m'\u001b[39m\u001b[38;5;124m3\u001b[39m\u001b[38;5;124m'\u001b[39m]\n\u001b[1;32m     16\u001b[0m arg_str_2 \u001b[38;5;241m=\u001b[39m [\u001b[38;5;124m'\u001b[39m\u001b[38;5;124m1\u001b[39m\u001b[38;5;124m'\u001b[39m, \u001b[38;5;124m'\u001b[39m\u001b[38;5;124m1\u001b[39m\u001b[38;5;124m'\u001b[39m, \u001b[38;5;241m1\u001b[39m]\n\u001b[0;32m---> 17\u001b[0m result \u001b[38;5;241m=\u001b[39m \u001b[43mexception_add_function\u001b[49m\u001b[43m(\u001b[49m\u001b[43marg_str_1\u001b[49m\u001b[43m,\u001b[49m\u001b[43m \u001b[49m\u001b[43marg_str_2\u001b[49m\u001b[43m)\u001b[49m\n\u001b[1;32m     18\u001b[0m \u001b[38;5;28mprint\u001b[39m(result)\n",
      "Cell \u001b[0;32mIn[167], line 7\u001b[0m, in \u001b[0;36mexception_add_function\u001b[0;34m(arg1, arg2)\u001b[0m\n\u001b[1;32m      4\u001b[0m \u001b[38;5;28;01mtry\u001b[39;00m: \n\u001b[1;32m      5\u001b[0m     \u001b[38;5;28;01mreturn\u001b[39;00m wrong_add_function(arg1, arg2)\n\u001b[0;32m----> 7\u001b[0m \u001b[38;5;28;01mexcept\u001b[39;00m \u001b[43merror\u001b[49m \u001b[38;5;28;01mas\u001b[39;00m e:\n\u001b[1;32m      8\u001b[0m    \u001b[38;5;28;01mfor\u001b[39;00m i \u001b[38;5;129;01min\u001b[39;00m \u001b[38;5;28mrange\u001b[39m(\u001b[38;5;28mlen\u001b[39m(arg1)):\n\u001b[1;32m      9\u001b[0m         \u001b[38;5;28;01mif\u001b[39;00m \u001b[38;5;129;01mnot\u001b[39;00m \u001b[38;5;28misinstance\u001b[39m(arg1[i], (\u001b[38;5;28mint\u001b[39m, \u001b[38;5;28mstr\u001b[39m)):\n",
      "\u001b[0;31mNameError\u001b[0m: name 'error' is not defined"
     ]
    }
   ],
   "source": [
    "#2b exception function in the string section\n",
    "#string section\n",
    "def exception_add_function(arg1, arg2):\n",
    "    try: \n",
    "        return wrong_add_function(arg1, arg2)\n",
    "\n",
    "    except error as e:\n",
    "       for i in range(len(arg1)):\n",
    "            if not isinstance(arg1[i], (int, str)):\n",
    "                return \"Your input argument [1 or 2] at element [{i}] is not of the expected type. Please change this and rerun.\"\n",
    "       for i in range(len(arg2)):\n",
    "            if not isinstance(arg2[i], (int, str)):\n",
    "                return \"Your input argument [1 or 2] at element [{i}] is not of the expected type. Please change this and rerun.\"\n",
    "       return str(e) \n",
    "#examples \n",
    "arg_str_1 = ['1', '2', '3']\n",
    "arg_str_2 = ['1', '1', 1]\n",
    "result = exception_add_function(arg_str_1, arg_str_2)#calling the function\n",
    "print(result)"
   ]
  },
  {
   "cell_type": "code",
   "execution_count": 166,
   "id": "7385df2f-bdb3-417c-b960-fc956037a2e8",
   "metadata": {},
   "outputs": [
    {
     "name": "stdout",
     "output_type": "stream",
     "text": [
      "There is an error in the loop: arg1[{arg1_index}] is {arg1[arg1_index]}\n",
      "an error occured: {e}\n",
      "None\n"
     ]
    }
   ],
   "source": [
    "#2c adding correction add function\n",
    "def correction_add_function(arg1, arg2):\n",
    "    try: \n",
    "        if not (isinstance(arg1,list) and isinstance(arg2, list)):\n",
    "            raise Valuerror(\"Both arguments are lists.\")\n",
    "\n",
    "        corrected_arg1 = [str(x) if isinstance(x, (int, float)) else x for x in arg1]\n",
    "        corrected_arg2 = [str(y) if isinstance(y, (int, float)) else y for y in arg2]\n",
    "\n",
    "        result = wrong_add_function(corrected_arg1, corrected_arg2) \n",
    "        print(\"an error occured: {e}\")\n",
    "\n",
    "    except Exception as e: \n",
    "        print(\"an error occured: {e}\")\n",
    "#example\n",
    "arg_str_1 = ['1', '2', '3']\n",
    "arg_str_2 = ['1', '1', 1]\n",
    "result = correction_add_function(arg_str_1, arg_str_2) #calling the function\n",
    "print(result) \n"
   ]
  }
 ],
 "metadata": {
  "kernelspec": {
   "display_name": "Python 3 (ipykernel)",
   "language": "python",
   "name": "python3"
  },
  "language_info": {
   "codemirror_mode": {
    "name": "ipython",
    "version": 3
   },
   "file_extension": ".py",
   "mimetype": "text/x-python",
   "name": "python",
   "nbconvert_exporter": "python",
   "pygments_lexer": "ipython3",
   "version": "3.12.5"
  }
 },
 "nbformat": 4,
 "nbformat_minor": 5
}
